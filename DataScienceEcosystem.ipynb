{
 "cells": [
  {
   "cell_type": "markdown",
   "id": "4d19cc24-7bd8-4afd-b48f-8cf329655953",
   "metadata": {},
   "source": [
    "# Data Science Tools and Ecosystem"
   ]
  },
  {
   "cell_type": "markdown",
   "id": "376ce38f-575f-45c7-95cd-fd74a9f9cc3e",
   "metadata": {},
   "source": [
    "In this notebook, Data Science Tools and Ecosystem are summarized."
   ]
  },
  {
   "cell_type": "markdown",
   "id": "1d3b34db-7723-4cba-b94c-4dccb4a09b3f",
   "metadata": {},
   "source": [
    "**Objectives :**\n",
    "1. List popular Data Science languages.\n",
    "2. List common Data Science libraries.\n",
    "3. Give example for evaluating arithmetic expressions in Python."
   ]
  },
  {
   "cell_type": "markdown",
   "id": "039cb1e3-166a-42f2-b0bb-9711138e9305",
   "metadata": {},
   "source": [
    "Some popular languages that Data Scientists use are :\n",
    "1. R.\n",
    "2. Python.\n",
    "3. Julia.\n",
    "4. Scala."
   ]
  },
  {
   "cell_type": "markdown",
   "id": "9618f9a1-33ed-48b0-9714-da496f2935dd",
   "metadata": {},
   "source": [
    "Some of the common libraries used by Data Scientists include:\n",
    "1. numpy.\n",
    "2. scipy.\n",
    "3. ggplot.\n"
   ]
  },
  {
   "cell_type": "markdown",
   "id": "2040f98e-e219-4944-b00f-d42e3d935335",
   "metadata": {},
   "source": [
    "|Data Science Tools|\n",
    "|------------------|\n",
    "|R Studio|\n",
    "|Microsoft Visual Studio|\n",
    "|Jupyter|\n",
    "|Spyder|"
   ]
  },
  {
   "cell_type": "markdown",
   "id": "d3a2efcc-ed3a-4dff-b773-1c867c9b1625",
   "metadata": {},
   "source": [
    "### The following are a few examples of evaluating arithmetic expressions in Python"
   ]
  },
  {
   "cell_type": "code",
   "execution_count": 1,
   "id": "964cb153-397b-4574-b42a-9c5599523375",
   "metadata": {},
   "outputs": [
    {
     "data": {
      "text/plain": [
       "17"
      ]
     },
     "execution_count": 1,
     "metadata": {},
     "output_type": "execute_result"
    }
   ],
   "source": [
    "#This is a simple arithmetic expression to multiply then add integers\n",
    "(3*4)+5"
   ]
  },
  {
   "cell_type": "code",
   "execution_count": 3,
   "id": "76406e9b-6601-4650-a8b0-435803c08b59",
   "metadata": {},
   "outputs": [
    {
     "name": "stdout",
     "output_type": "stream",
     "text": [
      "3.3333333333333335 hours\n"
     ]
    }
   ],
   "source": [
    "#This will convert 200 minutes to hours by dividing it with 60.\n",
    "minutes=200\n",
    "hours=minutes/60\n",
    "print(hours,\"hours\")"
   ]
  },
  {
   "cell_type": "markdown",
   "id": "2dabdd52-6b73-48d6-87cc-dac60dec267c",
   "metadata": {},
   "source": [
    "## Author\n",
    "Karthikeyan S"
   ]
  }
 ],
 "metadata": {
  "kernelspec": {
   "display_name": "Python 3 (ipykernel)",
   "language": "python",
   "name": "python3"
  },
  "language_info": {
   "codemirror_mode": {
    "name": "ipython",
    "version": 3
   },
   "file_extension": ".py",
   "mimetype": "text/x-python",
   "name": "python",
   "nbconvert_exporter": "python",
   "pygments_lexer": "ipython3",
   "version": "3.9.7"
  }
 },
 "nbformat": 4,
 "nbformat_minor": 5
}
